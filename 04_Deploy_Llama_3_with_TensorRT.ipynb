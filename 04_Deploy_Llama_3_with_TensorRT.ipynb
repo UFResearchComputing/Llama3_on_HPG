{
 "cells": [
  {
   "cell_type": "code",
   "execution_count": null,
   "id": "28dd625f-23f7-43d9-bd00-d00f4c7fc328",
   "metadata": {},
   "outputs": [],
   "source": [
    "#"
   ]
  }
 ],
 "metadata": {
  "kernelspec": {
   "display_name": "nlp-1.3",
   "language": "python",
   "name": "nlp-1.3"
  },
  "language_info": {
   "codemirror_mode": {
    "name": "ipython",
    "version": 3
   },
   "file_extension": ".py",
   "mimetype": "text/x-python",
   "name": "python",
   "nbconvert_exporter": "python",
   "pygments_lexer": "ipython3",
   "version": "3.9.18"
  }
 },
 "nbformat": 4,
 "nbformat_minor": 5
}
